{
 "cells": [
  {
   "cell_type": "markdown",
   "id": "dc0d6cf5-ba28-4a46-ad16-42b670a1f7eb",
   "metadata": {},
   "source": [
    "# Basic"
   ]
  },
  {
   "cell_type": "code",
   "execution_count": 90,
   "id": "deef90c3-cfa5-480c-94ca-80f71d256927",
   "metadata": {},
   "outputs": [],
   "source": [
    "import qrcode as qr\n",
    "img=qr.make(\"https://www.youtube.com/@iitianskipathshala447\")\n",
    "img.save(\"iitians_ki_pathshala(basic).png\")"
   ]
  },
  {
   "cell_type": "markdown",
   "id": "373312d7-da6b-4f69-a1f5-45bd20c1a868",
   "metadata": {},
   "source": [
    "# Advance"
   ]
  },
  {
   "cell_type": "code",
   "execution_count": 92,
   "id": "64ecbb9d-ba50-4e62-a5d3-e572daf33ace",
   "metadata": {},
   "outputs": [],
   "source": [
    "from PIL import Image\n",
    "\n",
    "scan=qr.QRCode(version=1,\n",
    "              error_correction=qr.constants.ERROR_CORRECT_H,\n",
    "              box_size=10,border=4)\n",
    "scan.add_data(\"https://www.youtube.com/@iitianskipathshala447\")\n",
    "scan.make(fit=True)\n",
    "img=scan.make_image(fill_color=\"brown\",back_color=\"lightyellow\")\n",
    "img.save(\"iitians_ki_pathshala.png\")"
   ]
  },
  {
   "cell_type": "code",
   "execution_count": null,
   "id": "2add589b-da11-464a-8b25-dfeb7d17dfcd",
   "metadata": {},
   "outputs": [],
   "source": []
  }
 ],
 "metadata": {
  "kernelspec": {
   "display_name": "Python 3 (ipykernel)",
   "language": "python",
   "name": "python3"
  },
  "language_info": {
   "codemirror_mode": {
    "name": "ipython",
    "version": 3
   },
   "file_extension": ".py",
   "mimetype": "text/x-python",
   "name": "python",
   "nbconvert_exporter": "python",
   "pygments_lexer": "ipython3",
   "version": "3.11.7"
  }
 },
 "nbformat": 4,
 "nbformat_minor": 5
}
